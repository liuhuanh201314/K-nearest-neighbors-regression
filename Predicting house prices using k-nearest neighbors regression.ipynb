{
 "cells": [
  {
   "cell_type": "markdown",
   "metadata": {},
   "source": [
    "## Read data"
   ]
  },
  {
   "cell_type": "code",
   "execution_count": 123,
   "metadata": {},
   "outputs": [],
   "source": [
    "import pandas as pd\n",
    "import numpy as np\n",
    "dtype_dict = {'bathrooms':float, 'waterfront':int, 'sqft_above':int, 'sqft_living15':float, 'grade':int, 'yr_renovated':int, 'price':float, 'bedrooms':float, 'zipcode':int, 'long':float, 'sqft_lot15':float, 'sqft_living':float, 'floors':float, 'condition':int, 'lat':float, 'date':str, 'sqft_basement':int, 'yr_built':int, 'id':int, 'sqft_lot':int, 'view':int}\n",
    "sales = pd.read_csv('kc_house_data_small.csv/kc_house_data_small.csv', dtype = dtype_dict)\n",
    "train = pd.read_csv('kc_house_data_small_train.csv/kc_house_data_small_train.csv', dtype = dtype_dict)\n",
    "test = pd.read_csv('kc_house_data_small_test.csv/kc_house_data_small_test.csv', dtype = dtype_dict)\n",
    "validation = pd.read_csv('kc_house_data_small_validation.csv/kc_house_data_validation.csv', dtype = dtype_dict)"
   ]
  },
  {
   "cell_type": "markdown",
   "metadata": {},
   "source": [
    "## Define useful functions"
   ]
  },
  {
   "cell_type": "code",
   "execution_count": 124,
   "metadata": {},
   "outputs": [],
   "source": [
    "def get_numpy_data(data, features, output):\n",
    "    data['constant'] = 1\n",
    "    features = np.append('constant', features)  ## add new element to an array\n",
    "    feature_matrix = data[features].to_numpy()\n",
    "    output_array = data[output].to_numpy()\n",
    "    return(feature_matrix, output_array)"
   ]
  },
  {
   "cell_type": "code",
   "execution_count": 125,
   "metadata": {},
   "outputs": [],
   "source": [
    "def normalize_features(features):\n",
    "    norms = np.linalg.norm(features, axis = 0)\n",
    "    normalized_feature = features/norms\n",
    "    return(normalized_feature, norms)"
   ]
  },
  {
   "cell_type": "code",
   "execution_count": 126,
   "metadata": {},
   "outputs": [],
   "source": [
    "all_feature =  ['bedrooms',  \n",
    "                'bathrooms',  \n",
    "                'sqft_living',  \n",
    "                'sqft_lot',  \n",
    "                'floors',\n",
    "                'waterfront',  \n",
    "                'view',  \n",
    "                'condition',  \n",
    "                'grade',  \n",
    "                'sqft_above',  \n",
    "                'sqft_basement',\n",
    "                'yr_built',  \n",
    "                'yr_renovated',  \n",
    "                'lat',  \n",
    "                'long',  \n",
    "                'sqft_living15',  \n",
    "                'sqft_lot15']\n",
    "feature_matrix_train, out_train = get_numpy_data(train, all_feature, 'price')\n",
    "feature_matrix_test, out_test = get_numpy_data(test, all_feature, 'price')\n",
    "feature_matrix_validation, out_validation = get_numpy_data(validation, all_feature, 'price')"
   ]
  },
  {
   "cell_type": "code",
   "execution_count": 127,
   "metadata": {},
   "outputs": [],
   "source": [
    "normalized_train, norms = normalize_features(feature_matrix_train)\n",
    "normalized_test = feature_matrix_test/norms\n",
    "normalized_validation = feature_matrix_validation/norms"
   ]
  },
  {
   "cell_type": "code",
   "execution_count": 184,
   "metadata": {},
   "outputs": [
    {
     "name": "stdout",
     "output_type": "stream",
     "text": [
      "[ 0.01345102  0.01551285  0.01807473  0.01759212  0.00160518  0.017059\n",
      "  0.          0.05102365  0.0116321   0.01564352  0.01362084  0.02481682\n",
      "  0.01350306  0.          0.01345387 -0.01346922  0.01375926  0.0016225 ]\n",
      "[ 0.01345102  0.01163464  0.00602491  0.0083488   0.00050756  0.01279425\n",
      "  0.          0.          0.01938684  0.01390535  0.0096309   0.\n",
      "  0.01302544  0.          0.01346821 -0.01346251  0.01195898  0.00156612]\n"
     ]
    },
    {
     "data": {
      "text/plain": [
       "0.05972359371398078"
      ]
     },
     "execution_count": 184,
     "metadata": {},
     "output_type": "execute_result"
    }
   ],
   "source": [
    "# the distance between the first house of the test set  and the 10th house of the training set\n",
    "print (normalized_test[0])\n",
    "print (normalized_train[9])\n",
    "np.sqrt(np.sum((normalized_test[0]-normalized_train[9])**2))"
   ]
  },
  {
   "cell_type": "code",
   "execution_count": 186,
   "metadata": {},
   "outputs": [
    {
     "data": {
      "text/plain": [
       "(array([8]),)"
      ]
     },
     "execution_count": 186,
     "metadata": {},
     "output_type": "execute_result"
    }
   ],
   "source": [
    "dist0 = np.zeros(10)\n",
    "for i in range(10):\n",
    "    dist0[i] = np.sqrt(np.sum((normalized_test[0]-normalized_train[i])**2))\n",
    "np.where(dist0== dist0.min())    "
   ]
  },
  {
   "cell_type": "markdown",
   "metadata": {},
   "source": [
    "## Perform 1-nearest neighbor regression"
   ]
  },
  {
   "cell_type": "code",
   "execution_count": 187,
   "metadata": {},
   "outputs": [
    {
     "data": {
      "text/plain": [
       "-0.09343399874654643"
      ]
     },
     "execution_count": 187,
     "metadata": {},
     "output_type": "execute_result"
    }
   ],
   "source": [
    "diff = normalized_train - normalized_test[0]\n",
    "diff[-1].sum()"
   ]
  },
  {
   "cell_type": "code",
   "execution_count": 188,
   "metadata": {},
   "outputs": [],
   "source": [
    "dist = np.sqrt(np.sum(diff**2, axis = 1))"
   ]
  },
  {
   "cell_type": "code",
   "execution_count": 189,
   "metadata": {},
   "outputs": [],
   "source": [
    "def compute_distances(features_instances, features_query):\n",
    "    diff = features_instances - features_query\n",
    "    dist = np.sqrt(np.sum(diff**2, axis = 1))\n",
    "    return(dist)"
   ]
  },
  {
   "cell_type": "code",
   "execution_count": 191,
   "metadata": {},
   "outputs": [
    {
     "name": "stdout",
     "output_type": "stream",
     "text": [
      "(array([382]),)\n"
     ]
    },
    {
     "data": {
      "text/plain": [
       "249000.0"
      ]
     },
     "execution_count": 191,
     "metadata": {},
     "output_type": "execute_result"
    }
   ],
   "source": [
    "# the closest house to the third house in test data\n",
    "distances = compute_distances(normalized_train, normalized_test[2])\n",
    "print(np.where(distances == distances.min()))\n",
    "out_train[382]"
   ]
  },
  {
   "cell_type": "markdown",
   "metadata": {},
   "source": [
    "## Perform k-nearest neighbor regression"
   ]
  },
  {
   "cell_type": "code",
   "execution_count": 156,
   "metadata": {},
   "outputs": [],
   "source": [
    "def k_nearest_neighbors(k, features_train, features_query):\n",
    "    diff = features_train - features_query\n",
    "    dist = np.sqrt(np.sum(diff**2, axis = 1))\n",
    "    dist_sort = dist.argsort()    # or np.argsort(dist)  sort argument and output the index\n",
    "    neighbors = dist_sort[:k]\n",
    "    return(neighbors)"
   ]
  },
  {
   "cell_type": "code",
   "execution_count": 157,
   "metadata": {},
   "outputs": [
    {
     "data": {
      "text/plain": [
       "array([ 382, 1149, 4087, 3142])"
      ]
     },
     "execution_count": 157,
     "metadata": {},
     "output_type": "execute_result"
    }
   ],
   "source": [
    "# test\n",
    "k_nearest_neighbors(4, normalized_train, normalized_test[2])"
   ]
  },
  {
   "cell_type": "code",
   "execution_count": 160,
   "metadata": {},
   "outputs": [],
   "source": [
    "def predict_output_query(k, features_train, output_train, features_query):\n",
    "    neighbors_index = k_nearest_neighbors(k, features_train, features_query)\n",
    "    prediction = np.mean(output_train[neighbors_index])\n",
    "    return(prediction)"
   ]
  },
  {
   "cell_type": "code",
   "execution_count": 161,
   "metadata": {},
   "outputs": [
    {
     "data": {
      "text/plain": [
       "413987.5"
      ]
     },
     "execution_count": 161,
     "metadata": {},
     "output_type": "execute_result"
    }
   ],
   "source": [
    "# test\n",
    "predict_output_query(4, normalized_train, out_train, normalized_test[2])"
   ]
  },
  {
   "cell_type": "code",
   "execution_count": 168,
   "metadata": {},
   "outputs": [],
   "source": [
    "def predict_output(k, features_train, output_train, features_query):\n",
    "    n = features_query.shape[0]\n",
    "    prediction = np.zeros(n)\n",
    "    for i in range(n):\n",
    "        prediction[i] = predict_output_query(k, features_train, output_train, features_query[i])\n",
    "    return(prediction)"
   ]
  },
  {
   "cell_type": "code",
   "execution_count": 171,
   "metadata": {},
   "outputs": [
    {
     "name": "stdout",
     "output_type": "stream",
     "text": [
      "(array([6]),)\n",
      "350032.0\n"
     ]
    }
   ],
   "source": [
    "# test Make predictions for the first 10 houses in the test set, using k=10. \n",
    "prediction10 = predict_output(10, normalized_train, out_train, normalized_test[0:10])\n",
    "print(np.where(prediction10==prediction10.min()))\n",
    "print(prediction10[6])"
   ]
  },
  {
   "cell_type": "markdown",
   "metadata": {},
   "source": [
    "## Choosing best value of k via a validation set"
   ]
  },
  {
   "cell_type": "code",
   "execution_count": 181,
   "metadata": {},
   "outputs": [],
   "source": [
    "RSS = np.zeros(15)\n",
    "for k in range(1, 16):\n",
    "    prediction = predict_output(k, normalized_train, out_train, normalized_validation)\n",
    "    RSS[k-1] = np.sum((out_validation - prediction)**2)     "
   ]
  },
  {
   "cell_type": "code",
   "execution_count": 182,
   "metadata": {},
   "outputs": [
    {
     "data": {
      "text/plain": [
       "(array([7]),)"
      ]
     },
     "execution_count": 182,
     "metadata": {},
     "output_type": "execute_result"
    }
   ],
   "source": [
    "np.where(RSS==RSS.min())"
   ]
  },
  {
   "cell_type": "code",
   "execution_count": 192,
   "metadata": {},
   "outputs": [
    {
     "name": "stdout",
     "output_type": "stream",
     "text": [
      "134342939295287.66\n"
     ]
    }
   ],
   "source": [
    "## K=8, RSS on test data\n",
    "prediction_k8 = predict_output(k, normalized_train, out_train, normalized_test)\n",
    "RSS_k8 = np.sum((out_test - prediction_k8)**2)\n",
    "print(RSS_k8)"
   ]
  }
 ],
 "metadata": {
  "kernelspec": {
   "display_name": "Python 3",
   "language": "python",
   "name": "python3"
  },
  "language_info": {
   "codemirror_mode": {
    "name": "ipython",
    "version": 3
   },
   "file_extension": ".py",
   "mimetype": "text/x-python",
   "name": "python",
   "nbconvert_exporter": "python",
   "pygments_lexer": "ipython3",
   "version": "3.8.5"
  }
 },
 "nbformat": 4,
 "nbformat_minor": 4
}
